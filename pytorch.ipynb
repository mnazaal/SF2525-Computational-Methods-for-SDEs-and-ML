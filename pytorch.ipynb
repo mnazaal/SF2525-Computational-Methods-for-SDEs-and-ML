{
 "cells": [
  {
   "cell_type": "markdown",
   "metadata": {},
   "source": [
    "This notebook contains a PyTorch implementation for the paper \"Solving stochastic differential equations and Kolmogorov equations by means of deep learning\" by Christian Beck et al."
   ]
  },
  {
   "cell_type": "code",
   "execution_count": 1,
   "metadata": {},
   "outputs": [],
   "source": [
    "import numpy as np\n",
    "import matplotlib.pyplot as plt\n",
    "plt.style.use('ggplot')\n",
    "import torch\n",
    "import torch.nn as nn\n",
    "import torch.nn.functional as func\n",
    "from torch.distributions.multivariate_normal import MultivariateNormal as mvn\n",
    "# Honestly though I wanted to do this with JAX+STAX (or FLAX if I really had the guts to use a 3 month old library)"
   ]
  },
  {
   "cell_type": "code",
   "execution_count": null,
   "metadata": {},
   "outputs": [],
   "source": [
    "# Fully connected neural network\n",
    "# Normalize inputs\n",
    "# Xavier initialization\n",
    "# Batch normalization + parameters\n",
    "# Batch gradient descent \n",
    "# Sample uniformly from [a,b]^d\n",
    "# Adam optimizer\n",
    "\n",
    "# Computing approximate L1/L2 error\n",
    "\n",
    "# Sampling from Ito diffusion X_t^x with mu, sigma given center x"
   ]
  },
  {
   "cell_type": "code",
   "execution_count": 2,
   "metadata": {},
   "outputs": [
    {
     "data": {
      "image/png": "[encoded data removed]",
      "text/plain": [
       "<Figure size 432x288 with 1 Axes>"
      ]
     },
     "metadata": {},
     "output_type": "display_data"
    },
    {
     "name": "stdout",
     "output_type": "stream",
     "text": [
      "10\n"
     ]
    }
   ],
   "source": [
    "class ItoDiffusion:\n",
    "    def __init__(self, mu, sigma, N):\n",
    "        # Initializing the Ito Diffusion\n",
    "        # mu    :: R^dxJ -> R^dxJ\n",
    "        # sigma :: R^dxJ -> R^dxdxJ\n",
    "        # where J is the batch size\n",
    "        # N :: Int (Number of points in discretization)\n",
    "        self.mu = mu\n",
    "        self.sigma = sigma\n",
    "        self.N = N\n",
    "    \n",
    "    def sample(self, x, T):\n",
    "        # Generate J samples of X_T^x\n",
    "        # x :: R^dxJ\n",
    "        dt        = T/self.N\n",
    "        self.d    = x.size(0)\n",
    "        batchsize = x.size(1)\n",
    "        for i in range(self.N):\n",
    "            x = x + self.mu(x)*dt + self.sigma(x)*mvn(torch.zeros(self.d), dt*torch.eye(self.d)).sample([batchsize]).T\n",
    "        return x\n",
    "    \n",
    "brownian_motion = ItoDiffusion(lambda x: torch.zeros(x.size(0),x.size(1)), lambda x: torch.sqrt(torch.tensor(2.0)), 1)\n",
    "\n",
    "\n",
    "plot1=brownian_motion.sample(torch.randn(10,100),1)\n",
    "plot2=brownian_motion.sample(torch.randn(10,100),2)\n",
    "plot3=brownian_motion.sample(torch.randn(10,100),3)\n",
    "plot4=brownian_motion.sample(torch.randn(10,100),4)\n",
    "plot5=brownian_motion.sample(torch.randn(10,100),5)\n",
    "plt.plot(torch.ones(100),plot1[0,:],'x',2*torch.ones(100),plot2[0,:],'x',3*torch.ones(100),plot3[0,:],'x',4*torch.ones(100),plot4[0,:],'x',5*torch.ones(100),plot5[0,:],'x')\n",
    "plt.show()\n",
    "print(brownian_motion.d)"
   ]
  },
  {
   "cell_type": "code",
   "execution_count": 4,
   "metadata": {},
   "outputs": [],
   "source": [
    "class FCNN(nn.Module):\n",
    "    # initializ parameters\n",
    "    # input norm\n",
    "    # batch norm\n",
    "    \n",
    "    def __init__(self, dim, hidden_layers):\n",
    "        # dim    :: Int (Input dimension and also neurons in each hidden layer)\n",
    "        # hidden :: Int (Number of hidden layers)\n",
    "        super().__init__()\n",
    "        self.hidden_layers = hidden_layers\n",
    "        self.model = nn.Sequential()\n",
    "        for i in range(self.hidden_layers):\n",
    "            self.model.add_module(\"Hidden\"+str(i), nn.Linear(dim,dim))\n",
    "            self.model.add_module(\"Batch norm \"+str(i),nn.BatchNorm1d(dim))\n",
    "            self.model.add_module(\"Actvation \"+str(i),nn.Tanh())\n",
    "        self.model.add_module(\"Output\",nn.Linear(dim,1))\n",
    "        \n",
    "\n",
    "    def forward(self,x):\n",
    "        # x :: R^d (Spatial point)\n",
    "        return self.model(x)\n",
    "        # I know, this makes is harder to debug comparing to running the \n",
    "        # input through each layer separately"
   ]
  },
  {
   "cell_type": "code",
   "execution_count": 5,
   "metadata": {},
   "outputs": [],
   "source": [
    "def Lp_rel_error(neural_net, exact_sol, a,b,d, N,p):\n",
    "    # neural_net :: FCNN (instance of neural network)\n",
    "    # exact_sol  :: RxR^d -> R (exact solution of the PDE)\n",
    "    # a          :: Float (a in [a,b]^d)\n",
    "    # b          :: Float (b in [a,b]^d)\n",
    "    # d          :: Int (d in [a,b]^d)\n",
    "    # N          :: Int (Number of points to sample in the MC estimate)\n",
    "    # p          :: Int (p in the Lp)\n",
    "    spatial_points = (a-b)*torch.rand(N,d) + b\n",
    "    u_exact        = exact_sol(spatial_points).unsqueeze(0).T\n",
    "    return float(torch.mean(torch.abs((neural_net(spatial_points) - u_exact)/u_exact).pow(p)))"
   ]
  },
  {
   "cell_type": "code",
   "execution_count": null,
   "metadata": {},
   "outputs": [
    {
     "name": "stdout",
     "output_type": "stream",
     "text": [
      "Step 0 L1 error is 0.9817728400230408, L2 error is 0.9644933342933655 and loss function value is 417.9851989746094\n",
      "Step 100 L1 error is 0.9506382942199707, L2 error is 0.9051052331924438 and loss function value is 386.05517578125\n",
      "Step 200 L1 error is 0.8565602898597717, L2 error is 0.738254725933075 and loss function value is 292.8415832519531\n",
      "Step 300 L1 error is 0.7566890716552734, L2 error is 0.5737833380699158 and loss function value is 198.2165985107422\n",
      "Step 400 L1 error is 0.6791829466819763, L2 error is 0.4619431793689728 and loss function value is 134.18911743164062\n",
      "Step 500 L1 error is 0.6223683953285217, L2 error is 0.3924160599708557 and loss function value is 100.75758361816406\n"
     ]
    }
   ],
   "source": [
    "# Heat equation approximation\n",
    "T,N   = 1,1      # Time value we solve PDE for, number of discretization points to sample Ito diffusion\n",
    "a,b = 0,1        # a,b in [a,b]^d\n",
    "d   = 10         # d   in [a,b]^d\n",
    "s   = 3          # total number of layers (including output, meaning we have s-1 hidden layers)\n",
    "m   = 35000      # SGD iterations\n",
    "J   = 8192\n",
    "learning_rate = 0.001\n",
    "\n",
    "# The Ito diffusion corresponding to the Heat equation is Brownian motion. Here we define the initial condition as \n",
    "# u(0,x)=||x||2 (squared Euclidean norm) and via an Ansatz you can get the exact solution as u(t,x) = ||x||2 + td\n",
    "brownian_motion = ItoDiffusion(lambda x: torch.zeros(x.size(0),x.size(1)), lambda x: torch.sqrt(torch.tensor(2.0)), 1)\n",
    "phi = lambda x: torch.norm(x,2,1)\n",
    "u   = lambda x: phi(x) + T*d\n",
    "\n",
    "model = FCNN(d,s-1)\n",
    "optimizer = torch.optim.Adam(model.parameters(), lr=learning_rate)\n",
    "scheduler = torch.optim.lr_scheduler.StepLR(optimizer, step_size=25000, gamma=0.1)\n",
    "\n",
    "L1_errors = []\n",
    "L2_errors = []\n",
    "\n",
    "for i in range(m):\n",
    "    optimizer.zero_grad()\n",
    "    eta = (a-b)*torch.rand(J,d) + b\n",
    "    X_N = brownian_motion.sample(eta,N)\n",
    "    loss      = torch.mean(torch.norm(model(eta)-phi(X_N),2,1))\n",
    "    loss.backward()\n",
    "    optimizer.step()\n",
    "    scheduler.step()\n",
    "    if i%100 == 0:\n",
    "        L1_errors.append(Lp_rel_error(model, u, a,b,d, 1000,1))\n",
    "        L2_errors.append(Lp_rel_error(model, u, a,b,d, 1000,2))\n",
    "        print(\"Step {} L1 error is {}, L2 error is {} and loss function value is {}\".format(i,L1_errors[-1],L2_errors[-1],loss))\n",
    "        \n",
    "        \n",
    "plt.plot(range(len(L1_errors)),L1_errors)\n",
    "plt.plot(range(len(L2_errors)),L2_errors)\n",
    "plt.show()"
   ]
  }
 ],
 "metadata": {
  "kernelspec": {
   "display_name": "Python 3",
   "language": "python",
   "name": "python3"
  },
  "language_info": {
   "codemirror_mode": {
    "name": "ipython",
    "version": 3
   },
   "file_extension": ".py",
   "mimetype": "text/x-python",
   "name": "python",
   "nbconvert_exporter": "python",
   "pygments_lexer": "ipython3",
   "version": "3.7.6"
  }
 },
 "nbformat": 4,
 "nbformat_minor": 4
}
